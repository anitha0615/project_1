{
 "cells": [
  {
   "attachments": {},
   "cell_type": "markdown",
   "metadata": {},
   "source": [
    "# Homebuyers Guide to the Texas Market!!! Where should you end up?\n",
    "---\n",
    "## As part of this activity, “hotspots” in Texas will be determined based on housing prices, COVID surveillance, Temperature, public saftey.\n",
    "\n",
    "**-- Main Questions: --**\n",
    "* Housing Price : Where are housing prices rising the most in the past 6 years? Where have prices fallen? AKA where do you want to stay away from in your home investment? \n",
    "* COVID surveillance : Does the place pose high risk for COVID-19 spread \n",
    "* Temperature: Does the place have perfect climate?\n",
    "* Public saftey: Is the place safe to live in? what is the cirme ranking?\n",
    "\n",
    "**-- Liviablity score --** from 1 to 5 with 1 being lowest and5 highest(best) determined for each of these category and overall livablity grade is being determined using the below \n",
    "* Score == 25, GRADE = A+\n",
    "* Score => 20 and < 25, GRADE = A\n",
    "* Score => 15 and < 20, GRADE = B\n",
    "* Score => 10 and < 15, GRADE = C\n",
    "* Score => 5 and < 10, GRADE = D\n",
    "* Score => 1 and < 5, GRADE = E\n",
    "* Score == 0, GRADE = F\n",
    "\n",
    "**-- A visuvalization map --** created for texas by each county with a hover that display overall Liablity Score, CountyName, Avg housing price and Score, Covid Survillance(Rate and Score), Temprature(Avg Temp and Score), Saftey (precent and Score)\n"
   ]
  },
  {
   "attachments": {},
   "cell_type": "markdown",
   "metadata": {},
   "source": [
    "## Dependencies and Setup"
   ]
  },
  {
   "cell_type": "code",
   "execution_count": 1,
   "metadata": {
    "scrolled": true
   },
   "outputs": [],
   "source": [
    "# import required libiraries/packages\n",
    "import matplotlib.pyplot as plt\n",
    "import pandas as pd\n",
    "import numpy as np\n",
    "import requests\n",
    "import time\n",
    "from scipy.stats import linregress\n",
    "from pprint import  pprint\n",
    "\n",
    "# Import citipy to determine the cities based on latitude and longitude\n",
    "from citipy import citipy"
   ]
  },
  {
   "cell_type": "code",
   "execution_count": null,
   "metadata": {},
   "outputs": [],
   "source": [
    "# Import datasets csv file\n",
    "\n",
    "# Create dataframe\n",
    "\n",
    "# Merge all datasets into single dataframe \n"
   ]
  },
  {
   "cell_type": "code",
   "execution_count": null,
   "metadata": {},
   "outputs": [],
   "source": [
    "# Calculate the livablity score\n"
   ]
  },
  {
   "cell_type": "code",
   "execution_count": null,
   "metadata": {},
   "outputs": [],
   "source": [
    "# Generate texas state map with county line and display below attribites in the hover over each county\n",
    "# Overall Liablity Score, CountyName, Avg housing price and Score, Covid Survillance(Rate and Score), Temprature(Avg Temp and Score), Saftey (precent and Score)\n"
   ]
  }
 ],
 "metadata": {
  "anaconda-cloud": {},
  "kernel_info": {
   "name": "python3"
  },
  "kernelspec": {
   "display_name": "Python 3 (ipykernel)",
   "language": "python",
   "name": "python3"
  },
  "language_info": {
   "codemirror_mode": {
    "name": "ipython",
    "version": 3
   },
   "file_extension": ".py",
   "mimetype": "text/x-python",
   "name": "python",
   "nbconvert_exporter": "python",
   "pygments_lexer": "ipython3",
   "version": "3.9.13"
  },
  "latex_envs": {
   "LaTeX_envs_menu_present": true,
   "autoclose": false,
   "autocomplete": true,
   "bibliofile": "biblio.bib",
   "cite_by": "apalike",
   "current_citInitial": 1,
   "eqLabelWithNumbers": true,
   "eqNumInitial": 1,
   "hotkeys": {
    "equation": "Ctrl-E",
    "itemize": "Ctrl-I"
   },
   "labels_anchors": false,
   "latex_user_defs": false,
   "report_style_numbering": false,
   "user_envs_cfg": false
  },
  "nteract": {
   "version": "0.12.3"
  }
 },
 "nbformat": 4,
 "nbformat_minor": 4
}
