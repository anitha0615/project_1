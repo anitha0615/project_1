{
 "cells": [
  {
   "attachments": {},
   "cell_type": "markdown",
   "metadata": {},
   "source": [
    "# Texas Saftey Analysis\n",
    "---\n",
    "### As part of this activity, Criminal activity by each county will be analyzed and will be assigned as livablity score.\n",
    "\n",
    "--- \n",
    "Reference and Dataset Link: https://data.texas.gov/browse?Dataset-Category_Category-Tile=Public+Safety\n",
    "\n",
    "---\n",
    "\n",
    "**-- Limitation : --** Only 2019 and 2020 data set is available and the liviablity score evaluations is done only for these 2 years"
   ]
  },
  {
   "attachments": {},
   "cell_type": "markdown",
   "metadata": {},
   "source": [
    "## Dependencies and Setup"
   ]
  },
  {
   "cell_type": "code",
   "execution_count": 1,
   "metadata": {
    "scrolled": true
   },
   "outputs": [],
   "source": [
    "# import required libiraries/packages\n",
    "import matplotlib.pyplot as plt\n",
    "import pandas as pd\n",
    "import numpy as np\n",
    "import requests\n",
    "import time\n",
    "from scipy.stats import linregress\n",
    "from pprint import  pprint\n"
   ]
  },
  {
   "cell_type": "code",
   "execution_count": 2,
   "metadata": {},
   "outputs": [],
   "source": [
    "# Import datasets csv file or import data set through API\n",
    "\n",
    "# Study data files\n",
    "safetyanalysis_FY2019_path = \"Resources/Safetyanalysis_FY_2019.csv\"\n",
    "safetyanalysis_FY2020_path = \"Resources/Safetyanalysis_FY_2020.csv\"\n",
    "\n",
    "# Read the data\n",
    "safety_2019 = pd.read_csv(safetyanalysis_FY2019_path)\n",
    "safety_2020 = pd.read_csv(safetyanalysis_FY2020_path)\n",
    "\n",
    "# Create dataframe\n"
   ]
  },
  {
   "cell_type": "code",
   "execution_count": 46,
   "metadata": {},
   "outputs": [
    {
     "name": "stderr",
     "output_type": "stream",
     "text": [
      "C:\\Users\\anith\\AppData\\Local\\Temp\\ipykernel_6748\\1782522082.py:20: FutureWarning: The frame.append method is deprecated and will be removed from pandas in a future version. Use pandas.concat instead.\n",
      "  merged_df = safety_2019_selcols.append(safety_2020_selcols)\n"
     ]
    }
   ],
   "source": [
    "# Remove duplicates in CSV\n",
    "\n",
    "safety_2019 = safety_2019.drop_duplicates()\n",
    "safety_2019.to_csv('cleaned_2019.csv', index=False)\n",
    "\n",
    "safety_2020 = safety_2020.drop_duplicates()\n",
    "safety_2020.to_csv('cleaned_2020.csv', index=False)\n",
    "\n",
    "#filter rows from year 2017\n",
    "#print(pd.to_datetime(safety_2019['Offense Date']).dt.strftime('%Y'))\n",
    "\n",
    "\n",
    "df1_filtered = safety_2019[(pd.to_numeric(pd.to_datetime(safety_2019['Offense Date']).dt.strftime('%Y')) >= 2017) & ((pd.to_numeric(pd.to_datetime(safety_2019['Offense Date']).dt.strftime('%Y'))) < 2020)]\n",
    "df2_filtered = safety_2020[(pd.to_numeric(pd.to_datetime(safety_2020['Offense Date']).dt.strftime('%Y')) >= 2017) & ((pd.to_numeric(pd.to_datetime(safety_2020['Offense Date']).dt.strftime('%Y'))) < 2021)]\n",
    "\n",
    "\n",
    "safety_2019_selcols = pd.DataFrame(df1_filtered[['County', 'Offense', 'Offense Description', 'Offense Date']])\n",
    "safety_2020_selcols = pd.DataFrame(df2_filtered[['County', 'Offense', 'Offense Description', 'Offense Date']])\n",
    "\n",
    "merged_df = safety_2019_selcols.append(safety_2020_selcols)\n",
    "merged_df = merged_df.drop_duplicates()\n",
    " \n",
    "\n",
    "merged_df.to_csv('merged_safety_file.csv', index=False)\n",
    "\n",
    "\n"
   ]
  },
  {
   "cell_type": "code",
   "execution_count": 58,
   "metadata": {},
   "outputs": [],
   "source": [
    "# Merge into dataframe\n",
    "#merged_df.head(5)\n",
    "merged_df['Offense Year'] = pd.to_datetime(merged_df['Offense Date']).dt.strftime('%Y')\n"
   ]
  },
  {
   "cell_type": "code",
   "execution_count": 59,
   "metadata": {},
   "outputs": [],
   "source": [
    "#groupby county and offense\n",
    "\n",
    "grouped = merged_df.groupby(['County', 'Offense', 'Offense Year']).agg({'Offense Description': 'count'})\n",
    "#display(grouped.head(1000))"
   ]
  },
  {
   "cell_type": "code",
   "execution_count": 60,
   "metadata": {},
   "outputs": [],
   "source": [
    "# Create a new column with the count of offenses for each combination of County, Offense, and Offense Year\n",
    "\n",
    "merged_df['Offense Count'] = merged_df.groupby(['County', 'Offense', 'Offense Year'])['County'].transform('count')\n",
    "#merged_df.head(100)\n",
    "\n",
    "\n",
    "# Convert the resulting Series to a DataFrame and reset the index\n"
   ]
  },
  {
   "cell_type": "code",
   "execution_count": 61,
   "metadata": {},
   "outputs": [
    {
     "data": {
      "image/png": "[encoded data removed]",
      "text/plain": [
       "<Figure size 640x480 with 1 Axes>"
      ]
     },
     "metadata": {},
     "output_type": "display_data"
    }
   ],
   "source": [
    "# generate a stacked barplot for the county and offense count\n",
    "\n",
    "# Group the DataFrame by Offense Year and Offense, and sum the Offense Count\n",
    "\n",
    "grouped = merged_df.groupby(['Offense Year', 'Offense'])['Offense Count'].sum()\n",
    "\n",
    "# Unstack the resulting Series to create a DataFrame with Offense Year as columns\n",
    "stacked = grouped.unstack()\n",
    "\n",
    "# Plot the stacked bar plot\n",
    "stacked.plot(kind='bar', stacked=True)\n",
    "\n",
    "# Set the plot title and axis labels\n",
    "plt.title('Offense Counts by Year and Offense')\n",
    "plt.xlabel('Year')\n",
    "plt.ylabel('Offense Count')\n",
    "\n",
    "# Show the plot\n",
    "plt.show()"
   ]
  },
  {
   "cell_type": "code",
   "execution_count": 43,
   "metadata": {},
   "outputs": [
    {
     "data": {
      "text/plain": [
       "count    1.500000e+01\n",
       "mean     1.157010e+06\n",
       "std      1.139893e+06\n",
       "min      2.000000e+01\n",
       "25%      1.633760e+05\n",
       "50%      7.728690e+05\n",
       "75%      1.842318e+06\n",
       "max      3.322769e+06\n",
       "Name: Offense Count, dtype: float64"
      ]
     },
     "metadata": {},
     "output_type": "display_data"
    }
   ],
   "source": [
    "# Create summary statistics for the dataframe\n",
    "\n",
    "Summary = grouped.describe()\n",
    "display(Summary)"
   ]
  },
  {
   "cell_type": "code",
   "execution_count": null,
   "metadata": {},
   "outputs": [],
   "source": []
  }
 ],
 "metadata": {
  "anaconda-cloud": {},
  "kernel_info": {
   "name": "python3"
  },
  "kernelspec": {
   "display_name": "Python 3 (ipykernel)",
   "language": "python",
   "name": "python3"
  },
  "language_info": {
   "codemirror_mode": {
    "name": "ipython",
    "version": 3
   },
   "file_extension": ".py",
   "mimetype": "text/x-python",
   "name": "python",
   "nbconvert_exporter": "python",
   "pygments_lexer": "ipython3",
   "version": "3.9.13"
  },
  "latex_envs": {
   "LaTeX_envs_menu_present": true,
   "autoclose": false,
   "autocomplete": true,
   "bibliofile": "biblio.bib",
   "cite_by": "apalike",
   "current_citInitial": 1,
   "eqLabelWithNumbers": true,
   "eqNumInitial": 1,
   "hotkeys": {
    "equation": "Ctrl-E",
    "itemize": "Ctrl-I"
   },
   "labels_anchors": false,
   "latex_user_defs": false,
   "report_style_numbering": false,
   "user_envs_cfg": false
  },
  "nteract": {
   "version": "0.12.3"
  }
 },
 "nbformat": 4,
 "nbformat_minor": 4
}
